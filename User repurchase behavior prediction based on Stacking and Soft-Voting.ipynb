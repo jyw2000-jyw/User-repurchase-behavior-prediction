{
 "cells": [
  {
   "cell_type": "markdown",
   "id": "d382d514",
   "metadata": {},
   "source": [
    "# 导入库"
   ]
  },
  {
   "cell_type": "code",
   "execution_count": 1,
   "id": "d08d7850",
   "metadata": {},
   "outputs": [],
   "source": [
    "import pandas as pd\n",
    "import numpy as np\n",
    "import matplotlib.pyplot as plt\n",
    "import seaborn as sns\n",
    "from scipy import stats\n",
    "import matplotlib.dates as mdate\n",
    "import datetime # 用来显示时间的模块\n",
    "from matplotlib.pyplot import MultipleLocator #从pyplot导入MultipleLocator类，这个类用于设置刻度间隔\n",
    "\n",
    "#解决中文显示问题\n",
    "plt.rcParams['font.sans-serif'] = ['KaiTi'] # 指定默认字体\n",
    "plt.rcParams['axes.unicode_minus'] = False # 解决保存图像是负号'-'显示为方块的问题\n",
    "\n",
    "#忽略警告\n",
    "import warnings\n",
    "warnings.filterwarnings(\"ignore\")\n",
    "\n",
    "%matplotlib inline"
   ]
  },
  {
   "cell_type": "markdown",
   "id": "7405b420",
   "metadata": {},
   "source": [
    "## 数据读取"
   ]
  },
  {
   "cell_type": "code",
   "execution_count": 2,
   "id": "03db3f1f",
   "metadata": {},
   "outputs": [],
   "source": [
    "# 数据读取\n",
    "train_data = pd.read_csv('TmallTrainData.csv')\n",
    "train_target = pd.read_csv('TmallTrainTarget.csv')\n",
    "test_data = pd.read_csv('TmallTestData.csv') # 竞赛最后提交需要（无label，需要返回prob）"
   ]
  },
  {
   "cell_type": "code",
   "execution_count": 3,
   "id": "efe69840",
   "metadata": {
    "scrolled": true
   },
   "outputs": [],
   "source": [
    "# 删除第一列\n",
    "train_data.drop(['Unnamed: 0'], axis=1,inplace = True)\n",
    "train_target.drop(['Unnamed: 0'], axis=1,inplace = True)\n",
    "test_data.drop(['Unnamed: 0'], axis=1,inplace = True)"
   ]
  },
  {
   "cell_type": "markdown",
   "id": "f5ff9a3d",
   "metadata": {},
   "source": [
    "## 查看特征"
   ]
  },
  {
   "cell_type": "code",
   "execution_count": 4,
   "id": "2cf7b2f2",
   "metadata": {
    "scrolled": true
   },
   "outputs": [
    {
     "name": "stdout",
     "output_type": "stream",
     "text": [
      "有以下这些特征：\n",
      " Index(['user_id', 'merchant_id', 'u1用户行为总数', 'u2浏览不同商品数量', 'u3浏览不同商品种类数量',\n",
      "       'u4访问不同商家的数量', 'u5浏览不同品牌的数量', 'u6最早行为时间', 'u7最晚行为时间', 'u9用户活跃天数',\n",
      "       'u10点击次数', 'u11加购次数', 'u12购买次数', 'u13收藏次数', 'u14行为类型数', 'm1该商铺被访问次数',\n",
      "       'm2被不同用户访问的次数', 'm3含不同商品的个数', 'm4含不同商品种类的个数', 'm5含不同品牌的个数', 'm6被点击次数',\n",
      "       'm7被加购次数', 'm8被购买次数', 'm9被收藏次数', 'm10非新客户数', 'um1该用户对该商铺产生行为次数',\n",
      "       'um2该用户在该商铺看的不同商品数', 'um3该用户在该商铺看的不同种类数', 'um4该用户在该商铺看的不同品牌数',\n",
      "       'um5该用户对该商铺的点击数', 'um6该用户对该商铺的加购数', 'um7该用户对该商铺的购买数', 'um8该用户对该商铺的收藏数',\n",
      "       'um9用户访问该商铺最早时间', 'um10用户访问该商铺最晚时间', 'r1用户购买点击比', 'r2商家购买点击比',\n",
      "       'r3不同用户不同商家购买点击比', 'age_0.0', 'age_1.0', 'age_2.0', 'age_3.0',\n",
      "       'age_4.0', 'age_5.0', 'age_6.0', 'age_7.0', 'age_8.0', 'g_0.0', 'g_1.0',\n",
      "       'g_2.0'],\n",
      "      dtype='object')\n",
      "\n",
      "特征数目： 50\n"
     ]
    }
   ],
   "source": [
    "# 查看所有特征\n",
    "print('有以下这些特征：\\n',train_data.columns)\n",
    "print('\\n特征数目：',len(train_data.columns))"
   ]
  },
  {
   "cell_type": "markdown",
   "id": "851d80f8",
   "metadata": {},
   "source": [
    "# 预测"
   ]
  },
  {
   "cell_type": "markdown",
   "id": "bf6f179f",
   "metadata": {},
   "source": [
    "https://blog.csdn.net/u011630575/article/details/79423162"
   ]
  },
  {
   "cell_type": "markdown",
   "id": "8a0b0d18",
   "metadata": {},
   "source": [
    "## 导入库"
   ]
  },
  {
   "cell_type": "code",
   "execution_count": 5,
   "id": "5f7cec64",
   "metadata": {},
   "outputs": [],
   "source": [
    "# 算法辅助&数据\n",
    "import sklearn\n",
    "from sklearn.model_selection import KFold, cross_validate # 交叉验证\n",
    "from sklearn.model_selection import train_test_split"
   ]
  },
  {
   "cell_type": "code",
   "execution_count": 6,
   "id": "9e6039bb",
   "metadata": {},
   "outputs": [],
   "source": [
    "# 算法（单一学习器）\n",
    "from sklearn.neighbors import KNeighborsClassifier as KNNC # k邻近\n",
    "from sklearn.neighbors import KNeighborsRegressor as KNNR\n",
    "from sklearn.tree import DecisionTreeClassifier as DTC # 决策树\n",
    "from sklearn.tree import DecisionTreeRegressor as DTR\n",
    "from sklearn.linear_model import LinearRegression as LR # 线性回归\n",
    "from sklearn.linear_model import LogisticRegression as LogiR # 逻辑回归\n",
    "from sklearn.ensemble import RandomForestRegressor as RFR # 随机森林\n",
    "from sklearn.ensemble import RandomForestClassifier as RFC\n",
    "from sklearn.ensemble import GradientBoostingRegressor as GBR # 梯度提升树\n",
    "from sklearn.ensemble import GradientBoostingClassifier as GBC\n",
    "from sklearn.naive_bayes import GaussianNB\n",
    "from sklearn.svm import SVC # 支持向量机分类\n",
    "import xgboost as xgb\n",
    "from sklearn.metrics import classification_report\n",
    "from sklearn.model_selection import GridSearchCV # 网格搜索\n",
    "from sklearn.preprocessing import StandardScaler\n",
    "\n",
    "# 融合模型\n",
    "from sklearn.ensemble import VotingClassifier\n",
    "from sklearn.ensemble import VotingRegressor\n",
    "\n",
    "# 计数\n",
    "from collections import Counter\n",
    "# 时间\n",
    "import time\n",
    "\n",
    "from sklearn.model_selection import cross_val_score\n",
    "from sklearn import metrics\n",
    "from sklearn.metrics import accuracy_score"
   ]
  },
  {
   "cell_type": "markdown",
   "id": "f625a4fe",
   "metadata": {},
   "source": [
    "## 原始数据"
   ]
  },
  {
   "cell_type": "code",
   "execution_count": 7,
   "id": "dbda570f",
   "metadata": {},
   "outputs": [
    {
     "data": {
      "text/plain": [
       "((260864, 50), (260864, 1))"
      ]
     },
     "execution_count": 7,
     "metadata": {},
     "output_type": "execute_result"
    }
   ],
   "source": [
    "train_data.shape, train_target.shape"
   ]
  },
  {
   "cell_type": "code",
   "execution_count": 8,
   "id": "23327b03",
   "metadata": {},
   "outputs": [
    {
     "data": {
      "text/plain": [
       "array([[3.41760e+04, 3.90600e+03, 3.31000e+02, ..., 1.00000e+00,\n",
       "        0.00000e+00, 0.00000e+00],\n",
       "       [3.41760e+04, 1.21000e+02, 3.31000e+02, ..., 1.00000e+00,\n",
       "        0.00000e+00, 0.00000e+00],\n",
       "       [3.41760e+04, 4.35600e+03, 3.31000e+02, ..., 1.00000e+00,\n",
       "        0.00000e+00, 0.00000e+00],\n",
       "       ...,\n",
       "       [2.94527e+05, 1.52000e+02, 1.41000e+02, ..., 0.00000e+00,\n",
       "        1.00000e+00, 0.00000e+00],\n",
       "       [2.94527e+05, 2.53700e+03, 1.41000e+02, ..., 0.00000e+00,\n",
       "        1.00000e+00, 0.00000e+00],\n",
       "       [2.29247e+05, 4.14000e+03, 1.53000e+02, ..., 0.00000e+00,\n",
       "        0.00000e+00, 1.00000e+00]])"
      ]
     },
     "execution_count": 8,
     "metadata": {},
     "output_type": "execute_result"
    }
   ],
   "source": [
    "X = train_data.values\n",
    "X"
   ]
  },
  {
   "cell_type": "code",
   "execution_count": 9,
   "id": "e804c080",
   "metadata": {},
   "outputs": [
    {
     "data": {
      "text/plain": [
       "array([0., 0., 1., ..., 0., 0., 0.])"
      ]
     },
     "execution_count": 9,
     "metadata": {},
     "output_type": "execute_result"
    }
   ],
   "source": [
    "y = train_target.label.values\n",
    "y"
   ]
  },
  {
   "cell_type": "code",
   "execution_count": 10,
   "id": "1bb35ab1",
   "metadata": {},
   "outputs": [
    {
     "name": "stdout",
     "output_type": "stream",
     "text": [
      "负样本数量： 244912\n",
      "正样本数量： 15952\n",
      "正样本比例：6.115%\n"
     ]
    }
   ],
   "source": [
    "print('负样本数量：',sorted(Counter(y).items())[0][1])\n",
    "print('正样本数量：',sorted(Counter(y).items())[1][1])\n",
    "print('正样本比例：{:.3%}'.format(int(y.sum())/len(y)))"
   ]
  },
  {
   "cell_type": "markdown",
   "id": "90316182",
   "metadata": {},
   "source": [
    "## 下采样处理"
   ]
  },
  {
   "cell_type": "code",
   "execution_count": 11,
   "id": "af69dd58",
   "metadata": {},
   "outputs": [
    {
     "name": "stdout",
     "output_type": "stream",
     "text": [
      "原正负样本数量： [(0.0, 244912), (1.0, 15952)]\n",
      "随机下采样后，正负样本数量： [(0.0, 15952), (1.0, 15952)]\n"
     ]
    }
   ],
   "source": [
    "from imblearn.under_sampling import RandomUnderSampler\n",
    "RUS = RandomUnderSampler(random_state=0)\n",
    "train_data_RUS, train_target_RUS = RUS.fit_resample(X, y)\n",
    "print('原正负样本数量：',sorted(Counter(y).items()))\n",
    "print('随机下采样后，正负样本数量：',sorted(Counter(train_target_RUS).items()))"
   ]
  },
  {
   "cell_type": "code",
   "execution_count": 12,
   "id": "85de9ce7",
   "metadata": {},
   "outputs": [
    {
     "name": "stdout",
     "output_type": "stream",
     "text": [
      "下采样前训练数据大小： (260864, 50) (260864, 1)\n",
      "下采样后训练数据大小： (31904, 50) (31904,)\n"
     ]
    }
   ],
   "source": [
    "print('下采样前训练数据大小：',train_data.shape, train_target.shape)\n",
    "print('下采样后训练数据大小：',train_data_RUS.shape,train_target_RUS.shape)"
   ]
  },
  {
   "cell_type": "code",
   "execution_count": 13,
   "id": "a5fca33a",
   "metadata": {},
   "outputs": [
    {
     "name": "stdout",
     "output_type": "stream",
     "text": [
      "训练样本减少了87.77%\n"
     ]
    }
   ],
   "source": [
    "print('训练样本减少了{:.2%}'.format((len(train_data)-len(train_data_RUS))/len(train_data)))"
   ]
  },
  {
   "cell_type": "code",
   "execution_count": 14,
   "id": "56da9263",
   "metadata": {},
   "outputs": [],
   "source": [
    "# 标准化\n",
    "stdScaler = StandardScaler()\n",
    "X_RUS = stdScaler.fit_transform(train_data_RUS)\n",
    "\n",
    "# 切分数据\n",
    "X_train_RUS, X_test_RUS, y_train_RUS, y_test_RUS = train_test_split(X_RUS, train_target_RUS, test_size = 0.3)"
   ]
  },
  {
   "cell_type": "code",
   "execution_count": 15,
   "id": "7e65efc1",
   "metadata": {},
   "outputs": [
    {
     "name": "stdout",
     "output_type": "stream",
     "text": [
      "训练数据大小： (22332, 50) (22332,)\n"
     ]
    }
   ],
   "source": [
    "print('训练数据大小：',X_train_RUS.shape,y_train_RUS.shape)"
   ]
  },
  {
   "cell_type": "markdown",
   "id": "c1ca45fe",
   "metadata": {},
   "source": [
    "## 定义函数"
   ]
  },
  {
   "cell_type": "markdown",
   "id": "55399f8e",
   "metadata": {},
   "source": [
    "### 个体学习器"
   ]
  },
  {
   "cell_type": "code",
   "execution_count": 16,
   "id": "473e3f3f",
   "metadata": {},
   "outputs": [],
   "source": [
    " '''\n",
    " 对融合模型中每个评估器做交叉验证，对单一评估器的表现进行评估\n",
    " '''\n",
    "def individual_estimators(estimators):\n",
    "    for estimator in estimators:\n",
    "        cv = KFold(n_splits = 5, shuffle = True, random_state = 1412)\n",
    "        \n",
    "        start = time.time()\n",
    "        \n",
    "        results = cross_validate(estimator[1],X_train_RUS, y_train_RUS,\n",
    "                                 cv = cv,\n",
    "                                 scoring = 'accuracy',\n",
    "                                 n_jobs = -1,\n",
    "                                 return_train_score = True,\n",
    "                                 verbose = False)\n",
    "        \n",
    "        test_score = estimator[1].fit(X_train_RUS, y_train_RUS).score(X_test_RUS, y_test_RUS)\n",
    "        \n",
    "        print(estimator[0],\n",
    "              '\\n 消耗时间：{:.3f}s'.format((time.time() - start)),\n",
    "              '\\n train_score:{:.7f}'.format(results['train_score'].mean()),\n",
    "              '\\n cv_mean:{:.7f}'.format(results['test_score'].mean()),\n",
    "              '\\n test_score:{:.7f}'.format(test_score),\n",
    "              '\\n')"
   ]
  },
  {
   "cell_type": "markdown",
   "id": "00548b24",
   "metadata": {},
   "source": [
    "### 融合模型"
   ]
  },
  {
   "cell_type": "code",
   "execution_count": 17,
   "id": "d3e58be2",
   "metadata": {},
   "outputs": [],
   "source": [
    " '''\n",
    " 对融合模型做交叉验证，对融合模型的表现进行评估\n",
    " '''\n",
    "def fusion_estimators(clf):\n",
    "    cv = KFold(n_splits = 5, shuffle = True, random_state = 1412)\n",
    "    \n",
    "    start = time.time()\n",
    "    \n",
    "    results = cross_validate(clf, X_train_RUS, y_train_RUS,\n",
    "                             cv = cv,\n",
    "                             scoring = 'accuracy',\n",
    "                             n_jobs = -1,\n",
    "                             return_train_score = True,\n",
    "                             verbose = False)\n",
    "    \n",
    "    test_score = clf.fit(X_train_RUS, y_train_RUS).score(X_test_RUS, y_test_RUS)\n",
    "    \n",
    "    print('消耗时间：{:.3f}s'.format((time.time() - start)),\n",
    "          '\\n train_score: {:.7f}'.format(results['train_score'].mean()),\n",
    "          '\\n cv_mean: {:.7f}'.format(results['test_score'].mean()),\n",
    "          '\\n test_score: {:.7f}'.format(test_score))"
   ]
  },
  {
   "cell_type": "markdown",
   "id": "d5262011",
   "metadata": {},
   "source": [
    "### 调参函数"
   ]
  },
  {
   "cell_type": "code",
   "execution_count": null,
   "id": "62f5e533",
   "metadata": {},
   "outputs": [],
   "source": [
    "from sklearn.model_selection import GridSearchCV"
   ]
  },
  {
   "cell_type": "code",
   "execution_count": 18,
   "id": "786a0aa2",
   "metadata": {},
   "outputs": [],
   "source": [
    " '''\n",
    " 调参函数\n",
    " '''\n",
    "def param_GridSearchCV(model, param):\n",
    "    \n",
    "    start = time.time()\n",
    "\n",
    "    gs = GridSearchCV(model, param, cv = 5)\n",
    "    gs.fit(X_train_RUS, y_train_RUS)\n",
    "\n",
    "    print('消耗时间：{:.2f}s'.format((time.time() - start)), # 消耗时间\n",
    "          \"\\n Best parameters: {}\".format(gs.best_params_),\n",
    "          \"\\n Best cross-validation score: {:.7f}\".format(gs.best_score_))\n",
    "    # results = pd.DataFrame(LR.cv_results_)"
   ]
  },
  {
   "cell_type": "markdown",
   "id": "30b5d387",
   "metadata": {},
   "source": [
    "## LR"
   ]
  },
  {
   "cell_type": "code",
   "execution_count": 19,
   "id": "fa9cf883",
   "metadata": {},
   "outputs": [],
   "source": [
    "from sklearn.linear_model import LogisticRegression"
   ]
  },
  {
   "cell_type": "markdown",
   "id": "200beec0",
   "metadata": {},
   "source": [
    "### 无调参"
   ]
  },
  {
   "cell_type": "code",
   "execution_count": 20,
   "id": "1a601393",
   "metadata": {},
   "outputs": [
    {
     "name": "stdout",
     "output_type": "stream",
     "text": [
      "消耗时间：3.191s \n",
      " train_score: 0.5993529 \n",
      " cv_mean: 0.5954233 \n",
      " test_score: 0.5942332\n"
     ]
    }
   ],
   "source": [
    "model_LR = LogisticRegression()\n",
    "fusion_estimators(model_LR)"
   ]
  },
  {
   "cell_type": "markdown",
   "id": "1c79369a",
   "metadata": {},
   "source": [
    "### 调参"
   ]
  },
  {
   "cell_type": "markdown",
   "id": "febb8e88",
   "metadata": {},
   "source": [
    "超参数C"
   ]
  },
  {
   "cell_type": "code",
   "execution_count": 21,
   "id": "df77c1e7",
   "metadata": {},
   "outputs": [
    {
     "name": "stdout",
     "output_type": "stream",
     "text": [
      "消耗时间：12.51s \n",
      " Best parameters: {'C': 100} \n",
      " Best cross-validation score: 0.5960503\n"
     ]
    }
   ],
   "source": [
    "LR_model = LogisticRegression()\n",
    "param_grid = {'C': [0.1, 1, 10, 100, 1000, 10000, 100000, 1000000]}\n",
    "param_GridSearchCV(LR_model, param_grid)"
   ]
  },
  {
   "cell_type": "code",
   "execution_count": 23,
   "id": "5fdf70fc",
   "metadata": {},
   "outputs": [
    {
     "name": "stdout",
     "output_type": "stream",
     "text": [
      "消耗时间：5.969s \n",
      " train_score: 0.5991850 \n",
      " cv_mean: 0.5960055 \n",
      " test_score: 0.5955913\n"
     ]
    }
   ],
   "source": [
    "LR_model = LogisticRegression(max_iter = 3000, C = 100, random_state = 1412, n_jobs = 8)\n",
    "fusion_estimators(LR_model)"
   ]
  },
  {
   "cell_type": "markdown",
   "id": "58086a4b",
   "metadata": {},
   "source": [
    "|逻辑回归|train分数|test分数|\n",
    "|----|----|----|\n",
    "|未调参|0.6014688 |0.5910990|\n",
    "|调参|0.6015472 |0.5912035|"
   ]
  },
  {
   "cell_type": "markdown",
   "id": "f968789c",
   "metadata": {},
   "source": [
    "## KNN"
   ]
  },
  {
   "cell_type": "code",
   "execution_count": 57,
   "id": "2d307344",
   "metadata": {},
   "outputs": [],
   "source": [
    "from sklearn.neighbors import KNeighborsClassifier  # k邻近"
   ]
  },
  {
   "cell_type": "markdown",
   "id": "05af7133",
   "metadata": {},
   "source": [
    "### 未调参"
   ]
  },
  {
   "cell_type": "code",
   "execution_count": 64,
   "id": "f5feaa46",
   "metadata": {},
   "outputs": [
    {
     "name": "stdout",
     "output_type": "stream",
     "text": [
      "消耗时间：112.375s \n",
      " train_score: 0.6508038 \n",
      " cv_mean: 0.5505548 \n",
      " test_score: 0.5437735\n"
     ]
    }
   ],
   "source": [
    "model_knn = KNeighborsClassifier(n_neighbors = 10) \n",
    "fusion_estimators(model_knn)"
   ]
  },
  {
   "cell_type": "markdown",
   "id": "aa1b5111",
   "metadata": {},
   "source": [
    "### 调参"
   ]
  },
  {
   "cell_type": "markdown",
   "id": "177e5fe0",
   "metadata": {},
   "source": [
    "参数：n_neighbors\n",
    "\n",
    "https://blog.csdn.net/sinat_33150417/article/details/83273922"
   ]
  },
  {
   "cell_type": "code",
   "execution_count": 82,
   "id": "5bcc1aac",
   "metadata": {},
   "outputs": [
    {
     "name": "stdout",
     "output_type": "stream",
     "text": [
      "消耗时间：121.40s \n",
      " Best parameters: {'n_neighbors': 320} \n",
      " Best cross-validation score: 0.5748700\n"
     ]
    }
   ],
   "source": [
    "knn_model = KNeighborsClassifier() \n",
    "param_grid = [{'n_neighbors':[i for i in range(250, 360, 10)]}]\n",
    "param_GridSearchCV(knn_model, param_grid)"
   ]
  },
  {
   "cell_type": "code",
   "execution_count": 83,
   "id": "abbba47a",
   "metadata": {},
   "outputs": [
    {
     "name": "stdout",
     "output_type": "stream",
     "text": [
      "消耗时间：140.414s \n",
      " train_score: 0.5802884 \n",
      " cv_mean: 0.5743328 \n",
      " test_score: 0.5675930\n"
     ]
    }
   ],
   "source": [
    "knn_model = KNeighborsClassifier(n_neighbors = 320)\n",
    "fusion_estimators(knn_model)"
   ]
  },
  {
   "cell_type": "markdown",
   "id": "9aeb27d2",
   "metadata": {},
   "source": [
    "|k邻近|train分数|test分数|\n",
    "|----|----|----|\n",
    "|未调参|nan |0.5382365|\n",
    "|调参|0.5802884 |0.5675930|"
   ]
  },
  {
   "cell_type": "markdown",
   "id": "53bdbd55",
   "metadata": {},
   "source": [
    "## SVM"
   ]
  },
  {
   "cell_type": "markdown",
   "id": "1f68b344",
   "metadata": {},
   "source": [
    "https://blog.csdn.net/weixin_42480762/article/details/122057455"
   ]
  },
  {
   "cell_type": "code",
   "execution_count": 53,
   "id": "780ece46",
   "metadata": {},
   "outputs": [],
   "source": [
    "from sklearn.svm import SVC # 支持向量机分类"
   ]
  },
  {
   "cell_type": "markdown",
   "id": "5a588d71",
   "metadata": {},
   "source": [
    "### 未调参"
   ]
  },
  {
   "cell_type": "code",
   "execution_count": 54,
   "id": "52c400d5",
   "metadata": {},
   "outputs": [
    {
     "name": "stdout",
     "output_type": "stream",
     "text": [
      "消耗时间：1139.567s \n",
      " train_score: 0.6413442 \n",
      " cv_mean: 0.5953784 \n",
      " test_score: 0.5926661\n"
     ]
    }
   ],
   "source": [
    "model_svc = SVC(probability = True) # probability = True \n",
    "fusion_estimators(model_svc)"
   ]
  },
  {
   "cell_type": "code",
   "execution_count": 55,
   "id": "741fbd63",
   "metadata": {},
   "outputs": [
    {
     "name": "stdout",
     "output_type": "stream",
     "text": [
      "消耗时间：1665.320s \n",
      " train_score: 0.5863671 \n",
      " cv_mean: 0.5823479 \n",
      " test_score: 0.5821145\n"
     ]
    }
   ],
   "source": [
    "model_svc = SVC(kernel = 'linear', probability = True) # probability = True \n",
    "fusion_estimators(model_svc)"
   ]
  },
  {
   "cell_type": "markdown",
   "id": "683d6f3a",
   "metadata": {},
   "source": [
    "### 调参"
   ]
  },
  {
   "cell_type": "markdown",
   "id": "2460ccd3",
   "metadata": {},
   "source": [
    "选用rbf支持向量机：含有参数C和gamma"
   ]
  },
  {
   "cell_type": "code",
   "execution_count": null,
   "id": "510cb3d4",
   "metadata": {},
   "outputs": [],
   "source": [
    "svc_model = SVC(probability = True) # probability = True \n",
    "param_grid = [{'C': [0.001, 0.01, 0.1, 1, 10, 100],\n",
    "               'gamma': [0.001, 0.01, 0.1, 1, 10, 100]}]\n",
    "param_GridSearchCV(svc_model, param_grid)"
   ]
  },
  {
   "cell_type": "code",
   "execution_count": null,
   "id": "a109ecd1",
   "metadata": {},
   "outputs": [],
   "source": [
    "svc_model = SVC(probability = True)\n",
    "fusion_estimators(svc_model)"
   ]
  },
  {
   "cell_type": "markdown",
   "id": "883929d1",
   "metadata": {},
   "source": [
    "## DT"
   ]
  },
  {
   "cell_type": "code",
   "execution_count": 27,
   "id": "07fd1cf0",
   "metadata": {},
   "outputs": [],
   "source": [
    "from sklearn.tree import DecisionTreeClassifier"
   ]
  },
  {
   "cell_type": "markdown",
   "id": "7c1be1c0",
   "metadata": {},
   "source": [
    "### 未调参"
   ]
  },
  {
   "cell_type": "code",
   "execution_count": 28,
   "id": "8a42a038",
   "metadata": {},
   "outputs": [
    {
     "name": "stdout",
     "output_type": "stream",
     "text": [
      "消耗时间：2.145s \n",
      " train_score: 1.0000000 \n",
      " cv_mean: 0.5407929 \n",
      " test_score: 0.5434601\n"
     ]
    }
   ],
   "source": [
    "model_tree = DecisionTreeClassifier()\n",
    "fusion_estimators(model_tree)"
   ]
  },
  {
   "cell_type": "markdown",
   "id": "b3f6c455",
   "metadata": {},
   "source": [
    "### 调参"
   ]
  },
  {
   "cell_type": "markdown",
   "id": "abc8546a",
   "metadata": {},
   "source": [
    "max_features、min_samples_leaf、max_depth"
   ]
  },
  {
   "cell_type": "code",
   "execution_count": 29,
   "id": "914422ec",
   "metadata": {},
   "outputs": [
    {
     "name": "stdout",
     "output_type": "stream",
     "text": [
      "消耗时间：40.06s \n",
      " Best parameters: {'max_depth': 21, 'max_features': 'auto', 'min_samples_leaf': 91} \n",
      " Best cross-validation score: 0.5817202\n"
     ]
    }
   ],
   "source": [
    "DT_model = DecisionTreeClassifier()\n",
    "param_grid = {'max_features': [\"auto\",\"sqrt\",\"log2\"],\n",
    "              'min_samples_leaf': range(1,100,10), \n",
    "              'max_depth': range(1,50,10)}\n",
    "param_GridSearchCV(DT_model, param_grid)"
   ]
  },
  {
   "cell_type": "code",
   "execution_count": 30,
   "id": "44589642",
   "metadata": {},
   "outputs": [
    {
     "name": "stdout",
     "output_type": "stream",
     "text": [
      "消耗时间：0.386s \n",
      " train_score: 0.6245074 \n",
      " cv_mean: 0.5802438 \n",
      " test_score: 0.5734434\n"
     ]
    }
   ],
   "source": [
    "DT_model = DecisionTreeClassifier(max_depth = 21, max_features = 'auto', min_samples_leaf = 91)\n",
    "fusion_estimators(DT_model)"
   ]
  },
  {
   "cell_type": "markdown",
   "id": "dc1c1b6e",
   "metadata": {},
   "source": [
    "|决策树|train分数|test分数|\n",
    "|----|----|----|\n",
    "|未调参|1.0|0.5448182|\n",
    "|调参|0.6225820 |0.5950690|"
   ]
  },
  {
   "cell_type": "markdown",
   "id": "a22a2c39",
   "metadata": {},
   "source": [
    "## GBC"
   ]
  },
  {
   "cell_type": "code",
   "execution_count": 55,
   "id": "8a9d15e4",
   "metadata": {},
   "outputs": [],
   "source": [
    "from sklearn.ensemble import GradientBoostingClassifier"
   ]
  },
  {
   "cell_type": "markdown",
   "id": "2bbc93b4",
   "metadata": {},
   "source": [
    "### 未调参"
   ]
  },
  {
   "cell_type": "code",
   "execution_count": 56,
   "id": "1548615f",
   "metadata": {},
   "outputs": [
    {
     "name": "stdout",
     "output_type": "stream",
     "text": [
      "消耗时间：33.898s \n",
      " train_score: 0.6450497 \n",
      " cv_mean: 0.6128426 \n",
      " test_score: 0.6091726\n"
     ]
    }
   ],
   "source": [
    "model_GBC = GradientBoostingClassifier() # 无n_jobs参数\n",
    "fusion_estimators(model_GBC)"
   ]
  },
  {
   "cell_type": "markdown",
   "id": "8ae914e3",
   "metadata": {},
   "source": [
    "### 调参"
   ]
  },
  {
   "cell_type": "markdown",
   "id": "d396014b",
   "metadata": {},
   "source": [
    "参数：n_estimators、max_features"
   ]
  },
  {
   "cell_type": "code",
   "execution_count": null,
   "id": "306cdc25",
   "metadata": {},
   "outputs": [],
   "source": [
    "GBC_model = GradientBoostingClassifier()\n",
    "param_grid = \n",
    "param_GridSearchCV(GBC_model, param_grid)"
   ]
  },
  {
   "cell_type": "code",
   "execution_count": null,
   "id": "d68a811e",
   "metadata": {},
   "outputs": [],
   "source": [
    "GBC_model = GradientBoostingClassifier(n_estimators = 100, max_features = 16, random_state = 1412) # 无n_jobs参数\n",
    "fusion_estimators(model_GBC)"
   ]
  },
  {
   "cell_type": "markdown",
   "id": "18f7d65c",
   "metadata": {},
   "source": [
    "|梯度提升树|train分数|test分数|\n",
    "|----|----|----|\n",
    "|未调参|0.6450497 |0.6091726|\n",
    "|调参|||"
   ]
  },
  {
   "cell_type": "markdown",
   "id": "ef1ee39c",
   "metadata": {},
   "source": [
    "## RF"
   ]
  },
  {
   "cell_type": "code",
   "execution_count": 33,
   "id": "801fd2df",
   "metadata": {},
   "outputs": [],
   "source": [
    "from sklearn.ensemble import RandomForestClassifier"
   ]
  },
  {
   "cell_type": "markdown",
   "id": "39484c7e",
   "metadata": {},
   "source": [
    "### 未调参"
   ]
  },
  {
   "cell_type": "code",
   "execution_count": 34,
   "id": "a89b9b52",
   "metadata": {},
   "outputs": [
    {
     "name": "stdout",
     "output_type": "stream",
     "text": [
      "消耗时间：22.277s \n",
      " train_score: 1.0000000 \n",
      " cv_mean: 0.6012444 \n",
      " test_score: 0.6076055\n"
     ]
    }
   ],
   "source": [
    "model_RF = RandomForestClassifier()\n",
    "fusion_estimators(model_RF)"
   ]
  },
  {
   "cell_type": "markdown",
   "id": "0a0774d5",
   "metadata": {},
   "source": [
    "### 调参"
   ]
  },
  {
   "cell_type": "markdown",
   "id": "3e286625",
   "metadata": {},
   "source": [
    "随机森林主要的参数有n_estimators（子树的数量）、max_depth（树的最大生长深度）、min_samples_leaf（叶子的最小样本数量）、min_samples_split(分支节点的最小样本数量）、max_features（最大选择特征数）。\n",
    "\n",
    "https://zhuanlan.zhihu.com/p/126288078\n",
    "\n",
    "https://www.cnblogs.com/pinard/p/6160412.html\n",
    "\n",
    "https://blog.csdn.net/u012768474/article/details/92829985"
   ]
  },
  {
   "cell_type": "markdown",
   "id": "063aa6f6",
   "metadata": {},
   "source": [
    "#### n_estimators"
   ]
  },
  {
   "cell_type": "code",
   "execution_count": 21,
   "id": "37e609e4",
   "metadata": {},
   "outputs": [
    {
     "data": {
      "text/plain": [
       "0.6046031047605813"
      ]
     },
     "execution_count": 21,
     "metadata": {},
     "output_type": "execute_result"
    }
   ],
   "source": [
    "# 建立随机森林\n",
    "rfc = RandomForestClassifier(n_estimators = 100, random_state = 90)\n",
    "\n",
    "# 用交叉验证计算得分\n",
    "score_pre = cross_val_score(rfc, X_train_RUS, y_train_RUS, cv = 5).mean()\n",
    "score_pre"
   ]
  },
  {
   "cell_type": "code",
   "execution_count": 28,
   "id": "1bd7fd6b",
   "metadata": {},
   "outputs": [
    {
     "name": "stdout",
     "output_type": "stream",
     "text": [
      "消耗时间：497.106s\n",
      "最大得分：0.6096631605 子树数量为：191\n"
     ]
    },
    {
     "data": {
      "image/png": "[encoded data removed]",
      "text/plain": [
       "<Figure size 432x288 with 1 Axes>"
      ]
     },
     "metadata": {
      "needs_background": "light"
     },
     "output_type": "display_data"
    }
   ],
   "source": [
    "from sklearn.ensemble import RandomForestClassifier\n",
    "# 调参，绘制学习曲线来调参n_estimators（对随机森林影响最大）\n",
    "score_lt = []\n",
    "\n",
    "start = time.time()\n",
    "\n",
    "# 每隔10步建立一个随机森林，获得不同n_estimators的得分\n",
    "for i in range(0,200,10):\n",
    "    rfc = RandomForestClassifier(n_estimators = i+1, random_state=90)\n",
    "    score = cross_val_score(rfc, X_train_RUS, y_train_RUS, cv = 5).mean()\n",
    "    score_lt.append(score)\n",
    "score_max = max(score_lt)\n",
    "\n",
    "print('消耗时间：{:.3f}s'.format((time.time() - start)))# 消耗时间\n",
    "\n",
    "print('最大得分：{:.10f}'.format(score_max),\n",
    "      '子树数量为：{}'.format(score_lt.index(score_max)*10+1))\n",
    "\n",
    "# 绘制学习曲线\n",
    "x = np.arange(1,201,10)\n",
    "plt.subplot(111)\n",
    "plt.plot(x, score_lt, 'o-')\n",
    "plt.show()"
   ]
  },
  {
   "cell_type": "code",
   "execution_count": 29,
   "id": "1d95ed73",
   "metadata": {
    "scrolled": true
   },
   "outputs": [
    {
     "name": "stdout",
     "output_type": "stream",
     "text": [
      "消耗时间：955.794s\n",
      "最大得分：0.6097976593240715 子树数量为：193\n"
     ]
    },
    {
     "data": {
      "image/png": "[encoded data removed]",
      "text/plain": [
       "<Figure size 432x288 with 1 Axes>"
      ]
     },
     "metadata": {
      "needs_background": "light"
     },
     "output_type": "display_data"
    }
   ],
   "source": [
    "# 在191附近缩小n_estimators的范围181-200\n",
    "score_lt = []\n",
    "\n",
    "start = time.time()\n",
    "\n",
    "for i in range(180,200):\n",
    "    rfc = RandomForestClassifier(n_estimators = i, random_state = 90)\n",
    "    score = cross_val_score(rfc, X_train_RUS, y_train_RUS, cv = 5).mean()\n",
    "    score_lt.append(score)\n",
    "score_max = max(score_lt)\n",
    "\n",
    "print('消耗时间：{:.3f}s'.format((time.time() - start)))# 消耗时间\n",
    "\n",
    "print('最大得分：{}'.format(score_max),\n",
    "      '子树数量为：{}'.format(score_lt.index(score_max)+180))\n",
    "\n",
    "# 绘制学习曲线\n",
    "x = np.arange(180,200)\n",
    "plt.subplot(111)\n",
    "plt.plot(x, score_lt,'o-')\n",
    "plt.show()"
   ]
  },
  {
   "cell_type": "markdown",
   "id": "e676ccde",
   "metadata": {},
   "source": [
    "#### max_depth"
   ]
  },
  {
   "cell_type": "markdown",
   "id": "3d01468e",
   "metadata": {},
   "source": [
    "使模型复杂度减小"
   ]
  },
  {
   "cell_type": "code",
   "execution_count": 30,
   "id": "670271da",
   "metadata": {},
   "outputs": [
    {
     "name": "stdout",
     "output_type": "stream",
     "text": [
      "消耗时间：535.83s\n",
      "最优参数： {'max_depth': 14}\n",
      "最优得分： 0.614186394108119\n"
     ]
    }
   ],
   "source": [
    "# 建立n_estimators为193的随机森林\n",
    "rfc = RandomForestClassifier(n_estimators = 193, random_state = 90)\n",
    "\n",
    "start = time.time()\n",
    "\n",
    "# 用网格搜索调整max_depth\n",
    "param_grid = {'max_depth':np.arange(1,20)}\n",
    "GS = GridSearchCV(rfc, param_grid, cv = 5)\n",
    "GS.fit(X_train_RUS, y_train_RUS)\n",
    "\n",
    "print('消耗时间：{:.2f}s'.format((time.time() - start)))# 消耗时间\n",
    "print('最优参数：',GS.best_params_)\n",
    "print('最优得分：',GS.best_score_)"
   ]
  },
  {
   "cell_type": "markdown",
   "id": "a1016595",
   "metadata": {},
   "source": [
    "#### max_features"
   ]
  },
  {
   "cell_type": "markdown",
   "id": "a9461504",
   "metadata": {},
   "source": [
    "使得模型复杂度增大"
   ]
  },
  {
   "cell_type": "code",
   "execution_count": 31,
   "id": "f43eca0e",
   "metadata": {},
   "outputs": [
    {
     "data": {
      "text/plain": [
       "(22332, 50)"
      ]
     },
     "execution_count": 31,
     "metadata": {},
     "output_type": "execute_result"
    }
   ],
   "source": [
    "X_train_RUS.shape"
   ]
  },
  {
   "cell_type": "markdown",
   "id": "24624ea6",
   "metadata": {},
   "source": [
    "查看数据集大小，发现一共有50列特征，由于max_features默认取值特征数量的开平方值，因此我们从7开始调整"
   ]
  },
  {
   "cell_type": "code",
   "execution_count": 35,
   "id": "b6729948",
   "metadata": {},
   "outputs": [
    {
     "name": "stdout",
     "output_type": "stream",
     "text": [
      "消耗时间：2405.99s\n",
      "最优参数： {'max_features': 20}\n",
      "最优得分： 0.6161114932403231\n"
     ]
    }
   ],
   "source": [
    "start = time.time()\n",
    "\n",
    "# 用网格搜索调整max_features\n",
    "param_grid = {'max_features':np.arange(7,31)}\n",
    "\n",
    "rfc = RandomForestClassifier(n_estimators = 193, \n",
    "                             random_state = 90, \n",
    "                             max_depth = 14)\n",
    "\n",
    "GS = GridSearchCV(rfc, param_grid, cv = 5)\n",
    "GS.fit(X_train_RUS, y_train_RUS)\n",
    "\n",
    "print('消耗时间：{:.2f}s'.format((time.time() - start)))# 消耗时间\n",
    "print('最优参数：',GS.best_params_)\n",
    "print('最优得分：',GS.best_score_)"
   ]
  },
  {
   "cell_type": "code",
   "execution_count": 38,
   "id": "8038ddce",
   "metadata": {},
   "outputs": [
    {
     "name": "stdout",
     "output_type": "stream",
     "text": [
      "消耗时间：39.726s \n",
      " train_score: 0.9319698 \n",
      " cv_mean: 0.6067969 \n",
      " test_score: 0.6207689\n"
     ]
    }
   ],
   "source": [
    "RF_model = RandomForestClassifier(n_estimators = 193, max_depth = 14, max_features = 20, random_state = 90, n_jobs = 8)\n",
    "fusion_estimators(RF_model)"
   ]
  },
  {
   "cell_type": "code",
   "execution_count": 36,
   "id": "fb18e85b",
   "metadata": {},
   "outputs": [
    {
     "name": "stdout",
     "output_type": "stream",
     "text": [
      "消耗时间：137.87s\n",
      "最优参数： {'max_features': 'auto'}\n",
      "最优得分： 0.614186394108119\n"
     ]
    }
   ],
   "source": [
    "'''\n",
    "from sklearn.ensemble import RandomForestClassifier\n",
    " \n",
    "rfc = RandomForestClassifier(n_estimators = 193, \n",
    "                             random_state = 90, \n",
    "                             max_depth = 14)\n",
    "\n",
    "param_grid = {'max_features':['auto','sqrt','log2']}\n",
    " \n",
    "from sklearn.model_selection import GridSearchCV\n",
    "\n",
    "start = time.time()\n",
    "\n",
    "GS = GridSearchCV(rfc, param_grid, cv = 5)\n",
    "GS.fit(X_train_RUS, y_train_RUS)\n",
    "\n",
    "print('消耗时间：{:.2f}s'.format((time.time() - start)))# 消耗时间\n",
    "print('最优参数：',GS.best_params_)\n",
    "print('最优得分：',GS.best_score_)\n",
    "'''"
   ]
  },
  {
   "cell_type": "markdown",
   "id": "f2950e30",
   "metadata": {},
   "source": [
    "## XGBoost"
   ]
  },
  {
   "cell_type": "code",
   "execution_count": 31,
   "id": "6581a9c1",
   "metadata": {},
   "outputs": [],
   "source": [
    "from xgboost import XGBClassifier"
   ]
  },
  {
   "cell_type": "markdown",
   "id": "e0c86bf4",
   "metadata": {},
   "source": [
    "### 未调参"
   ]
  },
  {
   "cell_type": "code",
   "execution_count": 32,
   "id": "f0764b79",
   "metadata": {},
   "outputs": [
    {
     "name": "stdout",
     "output_type": "stream",
     "text": [
      "[11:32:42] WARNING: C:/Users/Administrator/workspace/xgboost-win64_release_1.5.1/src/learner.cc:1115: Starting in XGBoost 1.3.0, the default evaluation metric used with the objective 'binary:logistic' was changed from 'error' to 'logloss'. Explicitly set eval_metric if you'd like to restore the old behavior.\n",
      "消耗时间：20.322s \n",
      " train_score: 0.8619134 \n",
      " cv_mean: 0.6004386 \n",
      " test_score: 0.6120978\n"
     ]
    }
   ],
   "source": [
    "model_XGB = XGBClassifier()\n",
    "fusion_estimators(model_XGB)"
   ]
  },
  {
   "cell_type": "markdown",
   "id": "1381b74b",
   "metadata": {},
   "source": [
    "### 调参"
   ]
  },
  {
   "cell_type": "code",
   "execution_count": null,
   "id": "10c2dd5e",
   "metadata": {},
   "outputs": [],
   "source": []
  },
  {
   "cell_type": "markdown",
   "id": "2556d060",
   "metadata": {},
   "source": [
    "## 模型融合"
   ]
  },
  {
   "cell_type": "markdown",
   "id": "53c5c716",
   "metadata": {},
   "source": [
    "### 投票法"
   ]
  },
  {
   "cell_type": "markdown",
   "id": "90844165",
   "metadata": {},
   "source": [
    "#### 未调参"
   ]
  },
  {
   "cell_type": "code",
   "execution_count": 39,
   "id": "03a8e282",
   "metadata": {},
   "outputs": [],
   "source": [
    "clf1 = LogisticRegression(max_iter = 3000, random_state = 90, n_jobs = 8)\n",
    "clf2 = DecisionTreeClassifier(max_depth = 8, random_state = 90)\n",
    "clf3 = RFC(n_estimators = 100, random_state = 1412, n_jobs = 8)\n",
    "clf4 = XGBClassifier() \n",
    "\n",
    "estimators = [('Logistic Regression',clf1), \n",
    "              ('DecisionTree',clf2), \n",
    "              ('RandomForest',clf3),\n",
    "              ('XGBoost',clf4)]\n",
    "\n",
    "clf = VotingClassifier(estimators,voting = 'soft')"
   ]
  },
  {
   "cell_type": "code",
   "execution_count": 40,
   "id": "2c537db9",
   "metadata": {
    "scrolled": true
   },
   "outputs": [
    {
     "name": "stdout",
     "output_type": "stream",
     "text": [
      "Logistic Regression \n",
      " 消耗时间：5.655s \n",
      " train_score:0.5989947 \n",
      " cv_mean:0.5951547 \n",
      " test_score:0.5936064 \n",
      "\n",
      "DecisionTree \n",
      " 消耗时间：1.166s \n",
      " train_score:0.6426652 \n",
      " cv_mean:0.5851693 \n",
      " test_score:0.5857710 \n",
      "\n",
      "RandomForest \n",
      " 消耗时间：11.402s \n",
      " train_score:1.0000000 \n",
      " cv_mean:0.6008411 \n",
      " test_score:0.6108441 \n",
      "\n",
      "[11:48:03] WARNING: C:/Users/Administrator/workspace/xgboost-win64_release_1.5.1/src/learner.cc:1115: Starting in XGBoost 1.3.0, the default evaluation metric used with the objective 'binary:logistic' was changed from 'error' to 'logloss'. Explicitly set eval_metric if you'd like to restore the old behavior.\n",
      "XGBoost \n",
      " 消耗时间：18.951s \n",
      " train_score:0.8619134 \n",
      " cv_mean:0.6004386 \n",
      " test_score:0.6120978 \n",
      "\n"
     ]
    }
   ],
   "source": [
    "individual_estimators(estimators)"
   ]
  },
  {
   "cell_type": "code",
   "execution_count": 41,
   "id": "ead5bad1",
   "metadata": {
    "scrolled": false
   },
   "outputs": [
    {
     "name": "stdout",
     "output_type": "stream",
     "text": [
      "[11:49:12] WARNING: C:/Users/Administrator/workspace/xgboost-win64_release_1.5.1/src/learner.cc:1115: Starting in XGBoost 1.3.0, the default evaluation metric used with the objective 'binary:logistic' was changed from 'error' to 'logloss'. Explicitly set eval_metric if you'd like to restore the old behavior.\n",
      "消耗时间：50.830s \n",
      " train_score: 0.9349364 \n",
      " cv_mean: 0.6092599 \n",
      " test_score: 0.6143962\n"
     ]
    }
   ],
   "source": [
    "fusion_estimators(clf) "
   ]
  },
  {
   "cell_type": "markdown",
   "id": "ca8cddbe",
   "metadata": {},
   "source": [
    "||LR(对照)|融合模型|\n",
    "|----|----|----|\n",
    "|5折交叉验证|0.5951547|0.6092599|\n",
    "|测试集分数|0.5936064|0.6143962|"
   ]
  },
  {
   "cell_type": "markdown",
   "id": "99b2d217",
   "metadata": {},
   "source": [
    "增加多样性"
   ]
  },
  {
   "cell_type": "code",
   "execution_count": 84,
   "id": "0cb541fc",
   "metadata": {},
   "outputs": [],
   "source": [
    "clf1 = LogisticRegression(max_iter = 3000, random_state = 90, n_jobs = 8)\n",
    "clf2 = DecisionTreeClassifier(max_depth = 8, random_state = 90)\n",
    "clf3 = RFC(n_estimators = 100, random_state = 1412, n_jobs = 8)\n",
    "clf4 = XGBClassifier() \n",
    "clf5 = KNeighborsClassifier(n_neighbors = 20, n_jobs = 8)\n",
    "\n",
    "estimators = [('Logistic Regression',clf1), \n",
    "              ('DecisionTree',clf2), \n",
    "              ('RandomForest',clf3),\n",
    "              ('XGBoost',clf4),\n",
    "              ('KNN',clf5)]\n",
    "\n",
    "clf = VotingClassifier(estimators,voting = 'soft')"
   ]
  },
  {
   "cell_type": "code",
   "execution_count": null,
   "id": "9591189b",
   "metadata": {},
   "outputs": [],
   "source": [
    "individual_estimators(estimators)"
   ]
  },
  {
   "cell_type": "code",
   "execution_count": 85,
   "id": "f7be7488",
   "metadata": {},
   "outputs": [
    {
     "name": "stdout",
     "output_type": "stream",
     "text": [
      "[14:53:17] WARNING: C:/Users/Administrator/workspace/xgboost-win64_release_1.5.1/src/learner.cc:1115: Starting in XGBoost 1.3.0, the default evaluation metric used with the objective 'binary:logistic' was changed from 'error' to 'logloss'. Explicitly set eval_metric if you'd like to restore the old behavior.\n",
      "消耗时间：116.248s \n",
      " train_score: nan \n",
      " cv_mean: 0.6109167 \n",
      " test_score: 0.6150230\n"
     ]
    }
   ],
   "source": [
    "fusion_estimators(clf) "
   ]
  },
  {
   "cell_type": "markdown",
   "id": "267d1d81",
   "metadata": {},
   "source": [
    "||LR(对照)|融合模型| 增加多样性|\n",
    "|----|----|----|----|\n",
    "|5折交叉验证|0.5951547|0.6092599|0.6109167|\n",
    "|测试集分数|0.5936064|0.6143962|0.6150230|"
   ]
  },
  {
   "cell_type": "markdown",
   "id": "b3307a98",
   "metadata": {},
   "source": [
    "#### 细微调参"
   ]
  },
  {
   "cell_type": "code",
   "execution_count": 89,
   "id": "8f9a6c4d",
   "metadata": {},
   "outputs": [],
   "source": [
    "clf1 = LogisticRegression(max_iter = 3000, C = 100, random_state = 90, n_jobs = 8)\n",
    "clf2 = DecisionTreeClassifier(max_depth = 21, max_features = 'auto', min_samples_leaf = 91, random_state = 90)\n",
    "clf3 = RandomForestClassifier(n_estimators = 193, max_depth = 14, max_features = 20, random_state = 90, n_jobs = 8)\n",
    "clf4 = XGBClassifier() \n",
    "clf5 = KNeighborsClassifier(n_neighbors = 320, n_jobs = 8)\n",
    "\n",
    "estimators = [('Logistic Regression',clf1), \n",
    "              ('DecisionTree',clf2), \n",
    "              ('RandomForest',clf3),\n",
    "              ('XGBoost',clf4),\n",
    "              ('KNN',clf5)]\n",
    "\n",
    "clf = VotingClassifier(estimators,voting = 'soft')"
   ]
  },
  {
   "cell_type": "code",
   "execution_count": 90,
   "id": "fc012027",
   "metadata": {
    "scrolled": true
   },
   "outputs": [
    {
     "name": "stdout",
     "output_type": "stream",
     "text": [
      "Logistic Regression \n",
      " 消耗时间：8.292s \n",
      " train_score:0.5991850 \n",
      " cv_mean:0.5960055 \n",
      " test_score:0.5955913 \n",
      "\n",
      "DecisionTree \n",
      " 消耗时间：1.196s \n",
      " train_score:0.6206341 \n",
      " cv_mean:0.5716009 \n",
      " test_score:0.5821145 \n",
      "\n",
      "RandomForest \n",
      " 消耗时间：37.224s \n",
      " train_score:0.9319698 \n",
      " cv_mean:0.6067969 \n",
      " test_score:0.6207689 \n",
      "\n",
      "[15:09:29] WARNING: C:/Users/Administrator/workspace/xgboost-win64_release_1.5.1/src/learner.cc:1115: Starting in XGBoost 1.3.0, the default evaluation metric used with the objective 'binary:logistic' was changed from 'error' to 'logloss'. Explicitly set eval_metric if you'd like to restore the old behavior.\n",
      "XGBoost \n",
      " 消耗时间：22.677s \n",
      " train_score:0.8619134 \n",
      " cv_mean:0.6004386 \n",
      " test_score:0.6120978 \n",
      "\n",
      "KNN \n",
      " 消耗时间：136.743s \n",
      " train_score:nan \n",
      " cv_mean:0.5743328 \n",
      " test_score:0.5675930 \n",
      "\n"
     ]
    }
   ],
   "source": [
    "individual_estimators(estimators)"
   ]
  },
  {
   "cell_type": "code",
   "execution_count": 91,
   "id": "43533bff",
   "metadata": {},
   "outputs": [
    {
     "name": "stdout",
     "output_type": "stream",
     "text": [
      "[15:13:47] WARNING: C:/Users/Administrator/workspace/xgboost-win64_release_1.5.1/src/learner.cc:1115: Starting in XGBoost 1.3.0, the default evaluation metric used with the objective 'binary:logistic' was changed from 'error' to 'logloss'. Explicitly set eval_metric if you'd like to restore the old behavior.\n",
      "消耗时间：127.662s \n",
      " train_score: nan \n",
      " cv_mean: 0.6099315 \n",
      " test_score: 0.6178437\n"
     ]
    }
   ],
   "source": [
    "fusion_estimators(clf) "
   ]
  },
  {
   "cell_type": "markdown",
   "id": "60d767a7",
   "metadata": {},
   "source": [
    "||LR(对照)|融合模型| 增加多样性| 细微调参\n",
    "|----|----|----|----|----|\n",
    "|5折交叉验证|0.5951547|0.6092599(+)|0.6109167(+)|0.6099315(-)|\n",
    "|测试集分数|0.5936064|0.6143962(+)|0.6150230(+)|0.6178437(+)|"
   ]
  },
  {
   "cell_type": "markdown",
   "id": "1e15a5c2",
   "metadata": {},
   "source": [
    "交叉验证分数下降了0.001，但是测试集分数继续上升了0.002"
   ]
  },
  {
   "cell_type": "markdown",
   "id": "5fbf7837",
   "metadata": {},
   "source": [
    "#### 调整融合模型（赋权）"
   ]
  },
  {
   "cell_type": "markdown",
   "id": "912df59b",
   "metadata": {},
   "source": [
    "① 使用各个学习器交叉验证分数作为权重，但有一定过拟合风险"
   ]
  },
  {
   "cell_type": "code",
   "execution_count": 93,
   "id": "9ddb1015",
   "metadata": {},
   "outputs": [],
   "source": [
    "estimators = [('Logistic Regression',clf1), \n",
    "              ('DecisionTree',clf2), \n",
    "              ('RandomForest',clf3),\n",
    "              ('XGBoost',clf4),\n",
    "              ('KNN',clf5)]\n",
    "\n",
    "clf_weighted = VotingClassifier(estimators, voting = 'soft', weights = [0.5960055,0.5716009,0.6067969,0.6004386,0.5743328])"
   ]
  },
  {
   "cell_type": "code",
   "execution_count": 94,
   "id": "32adc140",
   "metadata": {},
   "outputs": [
    {
     "name": "stdout",
     "output_type": "stream",
     "text": [
      "[15:27:27] WARNING: C:/Users/Administrator/workspace/xgboost-win64_release_1.5.1/src/learner.cc:1115: Starting in XGBoost 1.3.0, the default evaluation metric used with the objective 'binary:logistic' was changed from 'error' to 'logloss'. Explicitly set eval_metric if you'd like to restore the old behavior.\n",
      "消耗时间：190.086s \n",
      " train_score: nan \n",
      " cv_mean: 0.6104689 \n",
      " test_score: 0.6178437\n"
     ]
    }
   ],
   "source": [
    "fusion_estimators(clf_weighted) "
   ]
  },
  {
   "cell_type": "markdown",
   "id": "dea362b8",
   "metadata": {},
   "source": [
    "||LR(对照)|融合模型| 增加多样性| 细微调参|赋权|\n",
    "|----|----|----|----|----|----|\n",
    "|5折交叉验证|0.5951547|0.6092599(+)|0.6109167(+)|0.6099315(-)|0.6104689(+)|\n",
    "|测试集分数|0.5936064|0.6143962(+)|0.6150230(+)|0.6178437(+)|0.6178437(无变化)|"
   ]
  },
  {
   "cell_type": "markdown",
   "id": "1e8fe973",
   "metadata": {},
   "source": [
    "赋权后交叉验证分数提升。测试集分数未变化，无过拟合产生。尝试粗糙赋权："
   ]
  },
  {
   "cell_type": "markdown",
   "id": "ba6d28e6",
   "metadata": {},
   "source": [
    "② 略微降低权重精度，也许可以一定程度抵消过拟合"
   ]
  },
  {
   "cell_type": "code",
   "execution_count": 97,
   "id": "5566e0f6",
   "metadata": {},
   "outputs": [],
   "source": [
    "clf_weighted2 = VotingClassifier(estimators, voting = 'soft', weights = [0.60,0.57,0.61,0.60,0.57])"
   ]
  },
  {
   "cell_type": "code",
   "execution_count": 98,
   "id": "adbd99e6",
   "metadata": {},
   "outputs": [
    {
     "name": "stdout",
     "output_type": "stream",
     "text": [
      "[15:39:53] WARNING: C:/Users/Administrator/workspace/xgboost-win64_release_1.5.1/src/learner.cc:1115: Starting in XGBoost 1.3.0, the default evaluation metric used with the objective 'binary:logistic' was changed from 'error' to 'logloss'. Explicitly set eval_metric if you'd like to restore the old behavior.\n",
      "消耗时间：148.227s \n",
      " train_score: nan \n",
      " cv_mean: 0.6106480 \n",
      " test_score: 0.6177392\n"
     ]
    }
   ],
   "source": [
    "fusion_estimators(clf_weighted2) "
   ]
  },
  {
   "cell_type": "markdown",
   "id": "df77853d",
   "metadata": {},
   "source": [
    "||LR(对照)|融合模型| 增加多样性| 细微调参|赋权|下调赋权精度|\n",
    "|----|----|----|----|----|----|----|\n",
    "|5折交叉验证|0.5951547|0.6092599(+)|0.6109167(+)|0.6099315(-)|0.6104689(+)|0.6106480(+)|\n",
    "|测试集分数|0.5936064|0.6143962(+)|0.6150230(+)|0.6178437(+)|0.6178437(无变化)|0.6177392(-)|"
   ]
  },
  {
   "cell_type": "markdown",
   "id": "1718b42f",
   "metadata": {},
   "source": [
    "测试集分数略微降低了0.001，轻微过拟合"
   ]
  },
  {
   "cell_type": "markdown",
   "id": "ff488b70",
   "metadata": {},
   "source": [
    "③ 加大效果好的算法权重，降低差的"
   ]
  },
  {
   "cell_type": "code",
   "execution_count": 99,
   "id": "1e680d6a",
   "metadata": {},
   "outputs": [],
   "source": [
    "# 加大效果好的算法权重\n",
    "clf_weighted3 = VotingClassifier(estimators, voting = 'soft', weights = [0.70,0.57,0.85,0.70,0.57])"
   ]
  },
  {
   "cell_type": "code",
   "execution_count": 100,
   "id": "d5a6ee64",
   "metadata": {},
   "outputs": [
    {
     "name": "stdout",
     "output_type": "stream",
     "text": [
      "[15:46:12] WARNING: C:/Users/Administrator/workspace/xgboost-win64_release_1.5.1/src/learner.cc:1115: Starting in XGBoost 1.3.0, the default evaluation metric used with the objective 'binary:logistic' was changed from 'error' to 'logloss'. Explicitly set eval_metric if you'd like to restore the old behavior.\n",
      "消耗时间：124.157s \n",
      " train_score: nan \n",
      " cv_mean: 0.6115436 \n",
      " test_score: 0.6187840\n"
     ]
    }
   ],
   "source": [
    "fusion_estimators(clf_weighted3) "
   ]
  },
  {
   "cell_type": "markdown",
   "id": "e7565a48",
   "metadata": {},
   "source": [
    "||LR(对照)|融合模型| 增加多样性| 细微调参|赋权|下调赋权精度|加大效果好的算法权重|\n",
    "|----|----|----|----|----|----|----|----|\n",
    "|5折交叉验证|0.5951547|0.6092599(+)|0.6109167(+)|0.6099315(-)|0.6104689(+)|0.6106480(+)|0.6115436(+)|\n",
    "|测试集分数|0.5936064|0.6143962(+)|0.6150230(+)|0.6178437(+)|0.6178437(无变化)|0.6177392(-)|0.6187840(+)|"
   ]
  },
  {
   "cell_type": "markdown",
   "id": "c434ab41",
   "metadata": {},
   "source": [
    "加大效果好的算法权重后，交叉验证分数与测试集分数都达到新高"
   ]
  },
  {
   "cell_type": "code",
   "execution_count": 106,
   "id": "02d43bf6",
   "metadata": {},
   "outputs": [],
   "source": [
    "# 降低差的算法的权重\n",
    "clf_weighted4 = VotingClassifier(estimators, voting = 'soft', weights = [0.70,0.4,0.85,0.70,0.4])"
   ]
  },
  {
   "cell_type": "code",
   "execution_count": 107,
   "id": "617cb15b",
   "metadata": {},
   "outputs": [
    {
     "name": "stdout",
     "output_type": "stream",
     "text": [
      "[16:05:54] WARNING: C:/Users/Administrator/workspace/xgboost-win64_release_1.5.1/src/learner.cc:1115: Starting in XGBoost 1.3.0, the default evaluation metric used with the objective 'binary:logistic' was changed from 'error' to 'logloss'. Explicitly set eval_metric if you'd like to restore the old behavior.\n",
      "消耗时间：130.669s \n",
      " train_score: nan \n",
      " cv_mean: 0.6122153 \n",
      " test_score: 0.6212913\n"
     ]
    }
   ],
   "source": [
    "fusion_estimators(clf_weighted4) "
   ]
  },
  {
   "cell_type": "markdown",
   "id": "9d16e14e",
   "metadata": {},
   "source": [
    "降低差的算法的权重后，交叉验证分数与测试集分数都达到新高"
   ]
  },
  {
   "cell_type": "markdown",
   "id": "809c30f1",
   "metadata": {},
   "source": [
    "||LR(对照)|融合模型| 增加多样性| 细微调参|赋权|下调赋权精度|加好的算法权重|降低差的算法的权重|\n",
    "|----|----|----|----|----|----|----|----|----|\n",
    "|5折交叉验证|0.5951547|0.6092599(+)|0.6109167(+)|0.6099315(-)|0.6104689(+)|0.6106480(+)|0.6115436(+)|0.6122153(+)|\n",
    "|测试集分数|0.5936064|0.6143962(+)|0.6150230(+)|0.6178437(+)|0.6178437(无变化)|0.6177392(-)|0.6187840(+)|0.6212913(+)|"
   ]
  },
  {
   "cell_type": "markdown",
   "id": "97a39cb9",
   "metadata": {},
   "source": [
    "### 堆叠法"
   ]
  },
  {
   "cell_type": "code",
   "execution_count": 109,
   "id": "bf2f7dae",
   "metadata": {},
   "outputs": [],
   "source": [
    "# stacking 模型融合\n",
    "from sklearn.ensemble import StackingClassifier"
   ]
  },
  {
   "cell_type": "code",
   "execution_count": 110,
   "id": "e08217b9",
   "metadata": {},
   "outputs": [],
   "source": [
    "clf1 = LogisticRegression(max_iter = 3000, C = 100, random_state = 90, n_jobs = 8)\n",
    "clf2 = DecisionTreeClassifier(max_depth = 21, max_features = 'auto', min_samples_leaf = 91, random_state = 90)\n",
    "clf3 = XGBClassifier() \n",
    "clf4 = KNeighborsClassifier(n_neighbors = 320, n_jobs = 8)"
   ]
  },
  {
   "cell_type": "code",
   "execution_count": 111,
   "id": "0d5bf773",
   "metadata": {},
   "outputs": [],
   "source": [
    "# 个体学习器\n",
    "estimators = [('Logistic Regression',clf1), \n",
    "              ('DecisionTree',clf2), \n",
    "              ('XGBoost',clf3),\n",
    "              ('KNN',clf4)]"
   ]
  },
  {
   "cell_type": "code",
   "execution_count": 118,
   "id": "7e3d0e67",
   "metadata": {},
   "outputs": [],
   "source": [
    "# 元学习器(分类的元学习器需要复杂一点)\n",
    "final_estimator = RFC(n_estimators = 193, \n",
    "                      max_depth = 14, \n",
    "                      # max_features = 20,\n",
    "                      # min_impurity_decrease = 0.0025,# 微小抗过拟合\n",
    "                      random_state = 90, \n",
    "                      n_jobs = 8)\n",
    "# stacking实例化\n",
    "Stacking_clf = StackingClassifier(estimators = estimators, \n",
    "                                  final_estimator = final_estimator, \n",
    "                                  stack_method = 'auto',\n",
    "                                  n_jobs = 8)"
   ]
  },
  {
   "cell_type": "code",
   "execution_count": 119,
   "id": "1f08da57",
   "metadata": {},
   "outputs": [
    {
     "name": "stdout",
     "output_type": "stream",
     "text": [
      "消耗时间：198.511s \n",
      " train_score: nan \n",
      " cv_mean: 0.6002142 \n",
      " test_score: 0.6055161\n"
     ]
    }
   ],
   "source": [
    "fusion_estimators(Stacking_clf) "
   ]
  },
  {
   "cell_type": "code",
   "execution_count": 127,
   "id": "c9248ef0",
   "metadata": {},
   "outputs": [],
   "source": [
    "# 元学习器(分类的元学习器需要复杂一点)\n",
    "final_estimator = RFC(n_estimators = 193, \n",
    "                      max_depth = 14, \n",
    "                      # max_features = 20,\n",
    "                      min_impurity_decrease = 0.0025,# 微小抗过拟合\n",
    "                      random_state = 90, \n",
    "                      n_jobs = 8)\n",
    "# stacking实例化\n",
    "Stacking_clf2 = StackingClassifier(estimators = estimators, \n",
    "                                  final_estimator = final_estimator, \n",
    "\n",
    "                                  n_jobs = 8)"
   ]
  },
  {
   "cell_type": "code",
   "execution_count": 128,
   "id": "93601b8a",
   "metadata": {},
   "outputs": [
    {
     "ename": "MemoryError",
     "evalue": "Unable to allocate 609. MiB for an array with shape (4467, 17865) and data type float64",
     "output_type": "error",
     "traceback": [
      "\u001b[1;31m---------------------------------------------------------------------------\u001b[0m",
      "\u001b[1;31m_RemoteTraceback\u001b[0m                          Traceback (most recent call last)",
      "\u001b[1;31m_RemoteTraceback\u001b[0m: \n\"\"\"\nTraceback (most recent call last):\n  File \"D:\\Anaconda\\lib\\site-packages\\joblib\\externals\\loky\\process_executor.py\", line 431, in _process_worker\n    r = call_item()\n  File \"D:\\Anaconda\\lib\\site-packages\\joblib\\externals\\loky\\process_executor.py\", line 285, in __call__\n    return self.fn(*self.args, **self.kwargs)\n  File \"D:\\Anaconda\\lib\\site-packages\\joblib\\_parallel_backends.py\", line 595, in __call__\n    return self.func(*args, **kwargs)\n  File \"D:\\Anaconda\\lib\\site-packages\\joblib\\parallel.py\", line 262, in __call__\n    return [func(*args, **kwargs)\n  File \"D:\\Anaconda\\lib\\site-packages\\joblib\\parallel.py\", line 262, in <listcomp>\n    return [func(*args, **kwargs)\n  File \"D:\\Anaconda\\lib\\site-packages\\sklearn\\utils\\fixes.py\", line 216, in __call__\n    return self.function(*args, **kwargs)\n  File \"D:\\Anaconda\\lib\\site-packages\\sklearn\\model_selection\\_validation.py\", line 962, in cross_val_predict\n    predictions = parallel(\n  File \"D:\\Anaconda\\lib\\site-packages\\joblib\\parallel.py\", line 1054, in __call__\n    self.retrieve()\n  File \"D:\\Anaconda\\lib\\site-packages\\joblib\\parallel.py\", line 933, in retrieve\n    self._output.extend(job.get(timeout=self.timeout))\n  File \"D:\\Anaconda\\lib\\multiprocessing\\pool.py\", line 771, in get\n    raise self._value\n  File \"D:\\Anaconda\\lib\\multiprocessing\\pool.py\", line 125, in worker\n    result = (True, func(*args, **kwds))\n  File \"D:\\Anaconda\\lib\\site-packages\\joblib\\_parallel_backends.py\", line 595, in __call__\n    return self.func(*args, **kwargs)\n  File \"D:\\Anaconda\\lib\\site-packages\\joblib\\parallel.py\", line 262, in __call__\n    return [func(*args, **kwargs)\n  File \"D:\\Anaconda\\lib\\site-packages\\joblib\\parallel.py\", line 262, in <listcomp>\n    return [func(*args, **kwargs)\n  File \"D:\\Anaconda\\lib\\site-packages\\sklearn\\utils\\fixes.py\", line 216, in __call__\n    return self.function(*args, **kwargs)\n  File \"D:\\Anaconda\\lib\\site-packages\\sklearn\\model_selection\\_validation.py\", line 1046, in _fit_and_predict\n    predictions = func(X_test)\n  File \"D:\\Anaconda\\lib\\site-packages\\sklearn\\neighbors\\_classification.py\", line 256, in predict_proba\n    neigh_dist, neigh_ind = self.kneighbors(X)\n  File \"D:\\Anaconda\\lib\\site-packages\\sklearn\\neighbors\\_base.py\", line 752, in kneighbors\n    chunked_results = list(\n  File \"D:\\Anaconda\\lib\\site-packages\\sklearn\\metrics\\pairwise.py\", line 1717, in pairwise_distances_chunked\n    D_chunk = pairwise_distances(X_chunk, Y, metric=metric, n_jobs=n_jobs, **kwds)\n  File \"D:\\Anaconda\\lib\\site-packages\\sklearn\\metrics\\pairwise.py\", line 1889, in pairwise_distances\n    return _parallel_pairwise(X, Y, func, n_jobs, **kwds)\n  File \"D:\\Anaconda\\lib\\site-packages\\sklearn\\metrics\\pairwise.py\", line 1430, in _parallel_pairwise\n    return func(X, Y, **kwds)\n  File \"D:\\Anaconda\\lib\\site-packages\\sklearn\\metrics\\pairwise.py\", line 330, in euclidean_distances\n    return _euclidean_distances(X, Y, X_norm_squared, Y_norm_squared, squared)\n  File \"D:\\Anaconda\\lib\\site-packages\\sklearn\\metrics\\pairwise.py\", line 371, in _euclidean_distances\n    distances = -2 * safe_sparse_dot(X, Y.T, dense_output=True)\nnumpy.core._exceptions._ArrayMemoryError: Unable to allocate 609. MiB for an array with shape (4467, 17865) and data type float64\n\"\"\"",
      "\nThe above exception was the direct cause of the following exception:\n",
      "\u001b[1;31mMemoryError\u001b[0m                               Traceback (most recent call last)",
      "\u001b[1;32m<ipython-input-128-728aca8dda16>\u001b[0m in \u001b[0;36m<module>\u001b[1;34m\u001b[0m\n\u001b[1;32m----> 1\u001b[1;33m \u001b[0mfusion_estimators\u001b[0m\u001b[1;33m(\u001b[0m\u001b[0mStacking_clf2\u001b[0m\u001b[1;33m)\u001b[0m\u001b[1;33m\u001b[0m\u001b[1;33m\u001b[0m\u001b[0m\n\u001b[0m",
      "\u001b[1;32m<ipython-input-17-73f548bbf837>\u001b[0m in \u001b[0;36mfusion_estimators\u001b[1;34m(clf)\u001b[0m\n\u001b[0;32m     14\u001b[0m                             verbose = False)\n\u001b[0;32m     15\u001b[0m \u001b[1;33m\u001b[0m\u001b[0m\n\u001b[1;32m---> 16\u001b[1;33m    \u001b[0mtest_score\u001b[0m \u001b[1;33m=\u001b[0m \u001b[0mclf\u001b[0m\u001b[1;33m.\u001b[0m\u001b[0mfit\u001b[0m\u001b[1;33m(\u001b[0m\u001b[0mX_train_RUS\u001b[0m\u001b[1;33m,\u001b[0m \u001b[0my_train_RUS\u001b[0m\u001b[1;33m)\u001b[0m\u001b[1;33m.\u001b[0m\u001b[0mscore\u001b[0m\u001b[1;33m(\u001b[0m\u001b[0mX_test_RUS\u001b[0m\u001b[1;33m,\u001b[0m \u001b[0my_test_RUS\u001b[0m\u001b[1;33m)\u001b[0m\u001b[1;33m\u001b[0m\u001b[1;33m\u001b[0m\u001b[0m\n\u001b[0m\u001b[0;32m     17\u001b[0m \u001b[1;33m\u001b[0m\u001b[0m\n\u001b[0;32m     18\u001b[0m    print('消耗时间：{:.3f}s'.format((time.time() - start)),\n",
      "\u001b[1;32mD:\\Anaconda\\lib\\site-packages\\sklearn\\ensemble\\_stacking.py\u001b[0m in \u001b[0;36mfit\u001b[1;34m(self, X, y, sample_weight)\u001b[0m\n\u001b[0;32m    486\u001b[0m         \u001b[0mself\u001b[0m\u001b[1;33m.\u001b[0m\u001b[0m_le\u001b[0m \u001b[1;33m=\u001b[0m \u001b[0mLabelEncoder\u001b[0m\u001b[1;33m(\u001b[0m\u001b[1;33m)\u001b[0m\u001b[1;33m.\u001b[0m\u001b[0mfit\u001b[0m\u001b[1;33m(\u001b[0m\u001b[0my\u001b[0m\u001b[1;33m)\u001b[0m\u001b[1;33m\u001b[0m\u001b[1;33m\u001b[0m\u001b[0m\n\u001b[0;32m    487\u001b[0m         \u001b[0mself\u001b[0m\u001b[1;33m.\u001b[0m\u001b[0mclasses_\u001b[0m \u001b[1;33m=\u001b[0m \u001b[0mself\u001b[0m\u001b[1;33m.\u001b[0m\u001b[0m_le\u001b[0m\u001b[1;33m.\u001b[0m\u001b[0mclasses_\u001b[0m\u001b[1;33m\u001b[0m\u001b[1;33m\u001b[0m\u001b[0m\n\u001b[1;32m--> 488\u001b[1;33m         \u001b[1;32mreturn\u001b[0m \u001b[0msuper\u001b[0m\u001b[1;33m(\u001b[0m\u001b[1;33m)\u001b[0m\u001b[1;33m.\u001b[0m\u001b[0mfit\u001b[0m\u001b[1;33m(\u001b[0m\u001b[0mX\u001b[0m\u001b[1;33m,\u001b[0m \u001b[0mself\u001b[0m\u001b[1;33m.\u001b[0m\u001b[0m_le\u001b[0m\u001b[1;33m.\u001b[0m\u001b[0mtransform\u001b[0m\u001b[1;33m(\u001b[0m\u001b[0my\u001b[0m\u001b[1;33m)\u001b[0m\u001b[1;33m,\u001b[0m \u001b[0msample_weight\u001b[0m\u001b[1;33m)\u001b[0m\u001b[1;33m\u001b[0m\u001b[1;33m\u001b[0m\u001b[0m\n\u001b[0m\u001b[0;32m    489\u001b[0m \u001b[1;33m\u001b[0m\u001b[0m\n\u001b[0;32m    490\u001b[0m     \u001b[1;33m@\u001b[0m\u001b[0mif_delegate_has_method\u001b[0m\u001b[1;33m(\u001b[0m\u001b[0mdelegate\u001b[0m\u001b[1;33m=\u001b[0m\u001b[1;34m\"final_estimator_\"\u001b[0m\u001b[1;33m)\u001b[0m\u001b[1;33m\u001b[0m\u001b[1;33m\u001b[0m\u001b[0m\n",
      "\u001b[1;32mD:\\Anaconda\\lib\\site-packages\\sklearn\\ensemble\\_stacking.py\u001b[0m in \u001b[0;36mfit\u001b[1;34m(self, X, y, sample_weight)\u001b[0m\n\u001b[0;32m    191\u001b[0m             \u001b[1;33m{\u001b[0m\u001b[1;34m\"sample_weight\"\u001b[0m\u001b[1;33m:\u001b[0m \u001b[0msample_weight\u001b[0m\u001b[1;33m}\u001b[0m \u001b[1;32mif\u001b[0m \u001b[0msample_weight\u001b[0m \u001b[1;32mis\u001b[0m \u001b[1;32mnot\u001b[0m \u001b[1;32mNone\u001b[0m \u001b[1;32melse\u001b[0m \u001b[1;32mNone\u001b[0m\u001b[1;33m\u001b[0m\u001b[1;33m\u001b[0m\u001b[0m\n\u001b[0;32m    192\u001b[0m         )\n\u001b[1;32m--> 193\u001b[1;33m         predictions = Parallel(n_jobs=self.n_jobs)(\n\u001b[0m\u001b[0;32m    194\u001b[0m             delayed(cross_val_predict)(\n\u001b[0;32m    195\u001b[0m                 \u001b[0mclone\u001b[0m\u001b[1;33m(\u001b[0m\u001b[0mest\u001b[0m\u001b[1;33m)\u001b[0m\u001b[1;33m,\u001b[0m\u001b[1;33m\u001b[0m\u001b[1;33m\u001b[0m\u001b[0m\n",
      "\u001b[1;32mD:\\Anaconda\\lib\\site-packages\\joblib\\parallel.py\u001b[0m in \u001b[0;36m__call__\u001b[1;34m(self, iterable)\u001b[0m\n\u001b[0;32m   1052\u001b[0m \u001b[1;33m\u001b[0m\u001b[0m\n\u001b[0;32m   1053\u001b[0m             \u001b[1;32mwith\u001b[0m \u001b[0mself\u001b[0m\u001b[1;33m.\u001b[0m\u001b[0m_backend\u001b[0m\u001b[1;33m.\u001b[0m\u001b[0mretrieval_context\u001b[0m\u001b[1;33m(\u001b[0m\u001b[1;33m)\u001b[0m\u001b[1;33m:\u001b[0m\u001b[1;33m\u001b[0m\u001b[1;33m\u001b[0m\u001b[0m\n\u001b[1;32m-> 1054\u001b[1;33m                 \u001b[0mself\u001b[0m\u001b[1;33m.\u001b[0m\u001b[0mretrieve\u001b[0m\u001b[1;33m(\u001b[0m\u001b[1;33m)\u001b[0m\u001b[1;33m\u001b[0m\u001b[1;33m\u001b[0m\u001b[0m\n\u001b[0m\u001b[0;32m   1055\u001b[0m             \u001b[1;31m# Make sure that we get a last message telling us we are done\u001b[0m\u001b[1;33m\u001b[0m\u001b[1;33m\u001b[0m\u001b[1;33m\u001b[0m\u001b[0m\n\u001b[0;32m   1056\u001b[0m             \u001b[0melapsed_time\u001b[0m \u001b[1;33m=\u001b[0m \u001b[0mtime\u001b[0m\u001b[1;33m.\u001b[0m\u001b[0mtime\u001b[0m\u001b[1;33m(\u001b[0m\u001b[1;33m)\u001b[0m \u001b[1;33m-\u001b[0m \u001b[0mself\u001b[0m\u001b[1;33m.\u001b[0m\u001b[0m_start_time\u001b[0m\u001b[1;33m\u001b[0m\u001b[1;33m\u001b[0m\u001b[0m\n",
      "\u001b[1;32mD:\\Anaconda\\lib\\site-packages\\joblib\\parallel.py\u001b[0m in \u001b[0;36mretrieve\u001b[1;34m(self)\u001b[0m\n\u001b[0;32m    931\u001b[0m             \u001b[1;32mtry\u001b[0m\u001b[1;33m:\u001b[0m\u001b[1;33m\u001b[0m\u001b[1;33m\u001b[0m\u001b[0m\n\u001b[0;32m    932\u001b[0m                 \u001b[1;32mif\u001b[0m \u001b[0mgetattr\u001b[0m\u001b[1;33m(\u001b[0m\u001b[0mself\u001b[0m\u001b[1;33m.\u001b[0m\u001b[0m_backend\u001b[0m\u001b[1;33m,\u001b[0m \u001b[1;34m'supports_timeout'\u001b[0m\u001b[1;33m,\u001b[0m \u001b[1;32mFalse\u001b[0m\u001b[1;33m)\u001b[0m\u001b[1;33m:\u001b[0m\u001b[1;33m\u001b[0m\u001b[1;33m\u001b[0m\u001b[0m\n\u001b[1;32m--> 933\u001b[1;33m                     \u001b[0mself\u001b[0m\u001b[1;33m.\u001b[0m\u001b[0m_output\u001b[0m\u001b[1;33m.\u001b[0m\u001b[0mextend\u001b[0m\u001b[1;33m(\u001b[0m\u001b[0mjob\u001b[0m\u001b[1;33m.\u001b[0m\u001b[0mget\u001b[0m\u001b[1;33m(\u001b[0m\u001b[0mtimeout\u001b[0m\u001b[1;33m=\u001b[0m\u001b[0mself\u001b[0m\u001b[1;33m.\u001b[0m\u001b[0mtimeout\u001b[0m\u001b[1;33m)\u001b[0m\u001b[1;33m)\u001b[0m\u001b[1;33m\u001b[0m\u001b[1;33m\u001b[0m\u001b[0m\n\u001b[0m\u001b[0;32m    934\u001b[0m                 \u001b[1;32melse\u001b[0m\u001b[1;33m:\u001b[0m\u001b[1;33m\u001b[0m\u001b[1;33m\u001b[0m\u001b[0m\n\u001b[0;32m    935\u001b[0m                     \u001b[0mself\u001b[0m\u001b[1;33m.\u001b[0m\u001b[0m_output\u001b[0m\u001b[1;33m.\u001b[0m\u001b[0mextend\u001b[0m\u001b[1;33m(\u001b[0m\u001b[0mjob\u001b[0m\u001b[1;33m.\u001b[0m\u001b[0mget\u001b[0m\u001b[1;33m(\u001b[0m\u001b[1;33m)\u001b[0m\u001b[1;33m)\u001b[0m\u001b[1;33m\u001b[0m\u001b[1;33m\u001b[0m\u001b[0m\n",
      "\u001b[1;32mD:\\Anaconda\\lib\\site-packages\\joblib\\_parallel_backends.py\u001b[0m in \u001b[0;36mwrap_future_result\u001b[1;34m(future, timeout)\u001b[0m\n\u001b[0;32m    540\u001b[0m         AsyncResults.get from multiprocessing.\"\"\"\n\u001b[0;32m    541\u001b[0m         \u001b[1;32mtry\u001b[0m\u001b[1;33m:\u001b[0m\u001b[1;33m\u001b[0m\u001b[1;33m\u001b[0m\u001b[0m\n\u001b[1;32m--> 542\u001b[1;33m             \u001b[1;32mreturn\u001b[0m \u001b[0mfuture\u001b[0m\u001b[1;33m.\u001b[0m\u001b[0mresult\u001b[0m\u001b[1;33m(\u001b[0m\u001b[0mtimeout\u001b[0m\u001b[1;33m=\u001b[0m\u001b[0mtimeout\u001b[0m\u001b[1;33m)\u001b[0m\u001b[1;33m\u001b[0m\u001b[1;33m\u001b[0m\u001b[0m\n\u001b[0m\u001b[0;32m    543\u001b[0m         \u001b[1;32mexcept\u001b[0m \u001b[0mCfTimeoutError\u001b[0m \u001b[1;32mas\u001b[0m \u001b[0me\u001b[0m\u001b[1;33m:\u001b[0m\u001b[1;33m\u001b[0m\u001b[1;33m\u001b[0m\u001b[0m\n\u001b[0;32m    544\u001b[0m             \u001b[1;32mraise\u001b[0m \u001b[0mTimeoutError\u001b[0m \u001b[1;32mfrom\u001b[0m \u001b[0me\u001b[0m\u001b[1;33m\u001b[0m\u001b[1;33m\u001b[0m\u001b[0m\n",
      "\u001b[1;32mD:\\Anaconda\\lib\\concurrent\\futures\\_base.py\u001b[0m in \u001b[0;36mresult\u001b[1;34m(self, timeout)\u001b[0m\n\u001b[0;32m    430\u001b[0m                 \u001b[1;32mraise\u001b[0m \u001b[0mCancelledError\u001b[0m\u001b[1;33m(\u001b[0m\u001b[1;33m)\u001b[0m\u001b[1;33m\u001b[0m\u001b[1;33m\u001b[0m\u001b[0m\n\u001b[0;32m    431\u001b[0m             \u001b[1;32melif\u001b[0m \u001b[0mself\u001b[0m\u001b[1;33m.\u001b[0m\u001b[0m_state\u001b[0m \u001b[1;33m==\u001b[0m \u001b[0mFINISHED\u001b[0m\u001b[1;33m:\u001b[0m\u001b[1;33m\u001b[0m\u001b[1;33m\u001b[0m\u001b[0m\n\u001b[1;32m--> 432\u001b[1;33m                 \u001b[1;32mreturn\u001b[0m \u001b[0mself\u001b[0m\u001b[1;33m.\u001b[0m\u001b[0m__get_result\u001b[0m\u001b[1;33m(\u001b[0m\u001b[1;33m)\u001b[0m\u001b[1;33m\u001b[0m\u001b[1;33m\u001b[0m\u001b[0m\n\u001b[0m\u001b[0;32m    433\u001b[0m \u001b[1;33m\u001b[0m\u001b[0m\n\u001b[0;32m    434\u001b[0m             \u001b[0mself\u001b[0m\u001b[1;33m.\u001b[0m\u001b[0m_condition\u001b[0m\u001b[1;33m.\u001b[0m\u001b[0mwait\u001b[0m\u001b[1;33m(\u001b[0m\u001b[0mtimeout\u001b[0m\u001b[1;33m)\u001b[0m\u001b[1;33m\u001b[0m\u001b[1;33m\u001b[0m\u001b[0m\n",
      "\u001b[1;32mD:\\Anaconda\\lib\\concurrent\\futures\\_base.py\u001b[0m in \u001b[0;36m__get_result\u001b[1;34m(self)\u001b[0m\n\u001b[0;32m    386\u001b[0m     \u001b[1;32mdef\u001b[0m \u001b[0m__get_result\u001b[0m\u001b[1;33m(\u001b[0m\u001b[0mself\u001b[0m\u001b[1;33m)\u001b[0m\u001b[1;33m:\u001b[0m\u001b[1;33m\u001b[0m\u001b[1;33m\u001b[0m\u001b[0m\n\u001b[0;32m    387\u001b[0m         \u001b[1;32mif\u001b[0m \u001b[0mself\u001b[0m\u001b[1;33m.\u001b[0m\u001b[0m_exception\u001b[0m\u001b[1;33m:\u001b[0m\u001b[1;33m\u001b[0m\u001b[1;33m\u001b[0m\u001b[0m\n\u001b[1;32m--> 388\u001b[1;33m             \u001b[1;32mraise\u001b[0m \u001b[0mself\u001b[0m\u001b[1;33m.\u001b[0m\u001b[0m_exception\u001b[0m\u001b[1;33m\u001b[0m\u001b[1;33m\u001b[0m\u001b[0m\n\u001b[0m\u001b[0;32m    389\u001b[0m         \u001b[1;32melse\u001b[0m\u001b[1;33m:\u001b[0m\u001b[1;33m\u001b[0m\u001b[1;33m\u001b[0m\u001b[0m\n\u001b[0;32m    390\u001b[0m             \u001b[1;32mreturn\u001b[0m \u001b[0mself\u001b[0m\u001b[1;33m.\u001b[0m\u001b[0m_result\u001b[0m\u001b[1;33m\u001b[0m\u001b[1;33m\u001b[0m\u001b[0m\n",
      "\u001b[1;31mMemoryError\u001b[0m: Unable to allocate 609. MiB for an array with shape (4467, 17865) and data type float64"
     ]
    }
   ],
   "source": [
    "fusion_estimators(Stacking_clf2)"
   ]
  },
  {
   "cell_type": "code",
   "execution_count": null,
   "id": "0bdf5d1a",
   "metadata": {},
   "outputs": [],
   "source": []
  }
 ],
 "metadata": {
  "kernelspec": {
   "display_name": "Python 3",
   "language": "python",
   "name": "python3"
  },
  "language_info": {
   "codemirror_mode": {
    "name": "ipython",
    "version": 3
   },
   "file_extension": ".py",
   "mimetype": "text/x-python",
   "name": "python",
   "nbconvert_exporter": "python",
   "pygments_lexer": "ipython3",
   "version": "3.8.8"
  },
  "toc": {
   "base_numbering": 1,
   "nav_menu": {},
   "number_sections": true,
   "sideBar": true,
   "skip_h1_title": false,
   "title_cell": "Table of Contents",
   "title_sidebar": "Contents",
   "toc_cell": false,
   "toc_position": {
    "height": "calc(100% - 180px)",
    "left": "10px",
    "top": "150px",
    "width": "187px"
   },
   "toc_section_display": true,
   "toc_window_display": true
  }
 },
 "nbformat": 4,
 "nbformat_minor": 5
}
